{
 "cells": [
  {
   "cell_type": "code",
   "execution_count": 104,
   "id": "4942c25c",
   "metadata": {},
   "outputs": [],
   "source": [
    "import pandas as pd \n",
    "import numpy as np\n",
    "import matplotlib.pyplot as plt\n",
    "import seaborn as sns"
   ]
  },
  {
   "cell_type": "code",
   "execution_count": null,
   "id": "836cedfb",
   "metadata": {},
   "outputs": [],
   "source": [
    "#Question one\n",
    "#Display the first 5 records of the dataset"
   ]
  },
  {
   "cell_type": "code",
   "execution_count": 105,
   "id": "7d9f614a",
   "metadata": {},
   "outputs": [],
   "source": [
    "df = pd.read_csv('shopping.csv')"
   ]
  },
  {
   "cell_type": "code",
   "execution_count": 106,
   "id": "a40221cb",
   "metadata": {},
   "outputs": [
    {
     "data": {
      "text/html": [
       "<div>\n",
       "<style scoped>\n",
       "    .dataframe tbody tr th:only-of-type {\n",
       "        vertical-align: middle;\n",
       "    }\n",
       "\n",
       "    .dataframe tbody tr th {\n",
       "        vertical-align: top;\n",
       "    }\n",
       "\n",
       "    .dataframe thead th {\n",
       "        text-align: right;\n",
       "    }\n",
       "</style>\n",
       "<table border=\"1\" class=\"dataframe\">\n",
       "  <thead>\n",
       "    <tr style=\"text-align: right;\">\n",
       "      <th></th>\n",
       "      <th>Channel</th>\n",
       "      <th>Region</th>\n",
       "      <th>Fresh</th>\n",
       "      <th>Milk</th>\n",
       "      <th>Grocery</th>\n",
       "      <th>Frozen</th>\n",
       "      <th>Detergents_Paper</th>\n",
       "      <th>Delicassen</th>\n",
       "    </tr>\n",
       "  </thead>\n",
       "  <tbody>\n",
       "    <tr>\n",
       "      <th>0</th>\n",
       "      <td>2</td>\n",
       "      <td>3</td>\n",
       "      <td>12669</td>\n",
       "      <td>9656</td>\n",
       "      <td>7561</td>\n",
       "      <td>214</td>\n",
       "      <td>2674</td>\n",
       "      <td>1338</td>\n",
       "    </tr>\n",
       "    <tr>\n",
       "      <th>1</th>\n",
       "      <td>2</td>\n",
       "      <td>3</td>\n",
       "      <td>7057</td>\n",
       "      <td>9810</td>\n",
       "      <td>9568</td>\n",
       "      <td>1762</td>\n",
       "      <td>3293</td>\n",
       "      <td>1776</td>\n",
       "    </tr>\n",
       "    <tr>\n",
       "      <th>2</th>\n",
       "      <td>2</td>\n",
       "      <td>3</td>\n",
       "      <td>6353</td>\n",
       "      <td>8808</td>\n",
       "      <td>7684</td>\n",
       "      <td>2405</td>\n",
       "      <td>3516</td>\n",
       "      <td>7844</td>\n",
       "    </tr>\n",
       "    <tr>\n",
       "      <th>3</th>\n",
       "      <td>1</td>\n",
       "      <td>3</td>\n",
       "      <td>13265</td>\n",
       "      <td>1196</td>\n",
       "      <td>4221</td>\n",
       "      <td>6404</td>\n",
       "      <td>507</td>\n",
       "      <td>1788</td>\n",
       "    </tr>\n",
       "    <tr>\n",
       "      <th>4</th>\n",
       "      <td>2</td>\n",
       "      <td>3</td>\n",
       "      <td>22615</td>\n",
       "      <td>5410</td>\n",
       "      <td>7198</td>\n",
       "      <td>3915</td>\n",
       "      <td>1777</td>\n",
       "      <td>5185</td>\n",
       "    </tr>\n",
       "  </tbody>\n",
       "</table>\n",
       "</div>"
      ],
      "text/plain": [
       "   Channel  Region  Fresh  Milk  Grocery  Frozen  Detergents_Paper  Delicassen\n",
       "0        2       3  12669  9656     7561     214              2674        1338\n",
       "1        2       3   7057  9810     9568    1762              3293        1776\n",
       "2        2       3   6353  8808     7684    2405              3516        7844\n",
       "3        1       3  13265  1196     4221    6404               507        1788\n",
       "4        2       3  22615  5410     7198    3915              1777        5185"
      ]
     },
     "execution_count": 106,
     "metadata": {},
     "output_type": "execute_result"
    }
   ],
   "source": [
    "df.head()"
   ]
  },
  {
   "cell_type": "code",
   "execution_count": 39,
   "id": "e1a4e0f3",
   "metadata": {},
   "outputs": [],
   "source": [
    "#Question2\n",
    "#Draw and plot a scatterplot for fetaures Fresh(axis x) and Frozen(axis y)\n",
    "#add title, and axes labels.\n",
    "#enter the interpretation of the relationship btw the features fresh and frozen"
   ]
  },
  {
   "cell_type": "code",
   "execution_count": 107,
   "id": "e1460d2b",
   "metadata": {},
   "outputs": [
    {
     "data": {
      "image/png": "[encoded data removed]",
      "text/plain": [
       "<Figure size 432x288 with 1 Axes>"
      ]
     },
     "metadata": {},
     "output_type": "display_data"
    }
   ],
   "source": [
    "df = pd.read_csv('shopping.csv')\n",
    "fd = pd.DataFrame(df)\n",
    "plt.scatter(fd['Frozen'], fd['Fresh']);\n",
    "plt.title(\" Graph depecting the type of shopping, Fresh against Frozen\", fontsize = 20)\n",
    "plt.xlabel(\"Frozen\", labelpad=20)\n",
    "plt.ylabel(\"Fresh\", labelpad=20)\n",
    "plt.grid()\n",
    "plt.show()"
   ]
  },
  {
   "cell_type": "code",
   "execution_count": null,
   "id": "c26e69ae",
   "metadata": {},
   "outputs": [],
   "source": [
    "#Theres no correlation between the frozen and fresh items"
   ]
  },
  {
   "cell_type": "code",
   "execution_count": null,
   "id": "b8041b5a",
   "metadata": {},
   "outputs": [],
   "source": [
    "#Question3\n",
    "#Display last five records of the dataset"
   ]
  },
  {
   "cell_type": "code",
   "execution_count": 119,
   "id": "70a9126b",
   "metadata": {},
   "outputs": [
    {
     "data": {
      "text/html": [
       "<div>\n",
       "<style scoped>\n",
       "    .dataframe tbody tr th:only-of-type {\n",
       "        vertical-align: middle;\n",
       "    }\n",
       "\n",
       "    .dataframe tbody tr th {\n",
       "        vertical-align: top;\n",
       "    }\n",
       "\n",
       "    .dataframe thead th {\n",
       "        text-align: right;\n",
       "    }\n",
       "</style>\n",
       "<table border=\"1\" class=\"dataframe\">\n",
       "  <thead>\n",
       "    <tr style=\"text-align: right;\">\n",
       "      <th></th>\n",
       "      <th>Channel</th>\n",
       "      <th>Region</th>\n",
       "      <th>Fresh</th>\n",
       "      <th>Milk</th>\n",
       "      <th>Grocery</th>\n",
       "      <th>Frozen</th>\n",
       "      <th>Detergents_Paper</th>\n",
       "      <th>Delicassen</th>\n",
       "    </tr>\n",
       "  </thead>\n",
       "  <tbody>\n",
       "    <tr>\n",
       "      <th>435</th>\n",
       "      <td>1</td>\n",
       "      <td>3</td>\n",
       "      <td>29703</td>\n",
       "      <td>12051</td>\n",
       "      <td>16027</td>\n",
       "      <td>13135</td>\n",
       "      <td>182</td>\n",
       "      <td>2204</td>\n",
       "    </tr>\n",
       "    <tr>\n",
       "      <th>436</th>\n",
       "      <td>1</td>\n",
       "      <td>3</td>\n",
       "      <td>39228</td>\n",
       "      <td>1431</td>\n",
       "      <td>764</td>\n",
       "      <td>4510</td>\n",
       "      <td>93</td>\n",
       "      <td>2346</td>\n",
       "    </tr>\n",
       "    <tr>\n",
       "      <th>437</th>\n",
       "      <td>2</td>\n",
       "      <td>3</td>\n",
       "      <td>14531</td>\n",
       "      <td>15488</td>\n",
       "      <td>30243</td>\n",
       "      <td>437</td>\n",
       "      <td>14841</td>\n",
       "      <td>1867</td>\n",
       "    </tr>\n",
       "    <tr>\n",
       "      <th>438</th>\n",
       "      <td>1</td>\n",
       "      <td>3</td>\n",
       "      <td>10290</td>\n",
       "      <td>1981</td>\n",
       "      <td>2232</td>\n",
       "      <td>1038</td>\n",
       "      <td>168</td>\n",
       "      <td>2125</td>\n",
       "    </tr>\n",
       "    <tr>\n",
       "      <th>439</th>\n",
       "      <td>1</td>\n",
       "      <td>3</td>\n",
       "      <td>2787</td>\n",
       "      <td>1698</td>\n",
       "      <td>2510</td>\n",
       "      <td>65</td>\n",
       "      <td>477</td>\n",
       "      <td>52</td>\n",
       "    </tr>\n",
       "  </tbody>\n",
       "</table>\n",
       "</div>"
      ],
      "text/plain": [
       "     Channel  Region  Fresh   Milk  Grocery  Frozen  Detergents_Paper  \\\n",
       "435        1       3  29703  12051    16027   13135               182   \n",
       "436        1       3  39228   1431      764    4510                93   \n",
       "437        2       3  14531  15488    30243     437             14841   \n",
       "438        1       3  10290   1981     2232    1038               168   \n",
       "439        1       3   2787   1698     2510      65               477   \n",
       "\n",
       "     Delicassen  \n",
       "435        2204  \n",
       "436        2346  \n",
       "437        1867  \n",
       "438        2125  \n",
       "439          52  "
      ]
     },
     "execution_count": 119,
     "metadata": {},
     "output_type": "execute_result"
    }
   ],
   "source": [
    "df = pd.read_csv('shopping.csv')\n",
    "df.tail()"
   ]
  },
  {
   "cell_type": "code",
   "execution_count": 48,
   "id": "566d2db9",
   "metadata": {},
   "outputs": [],
   "source": []
  },
  {
   "cell_type": "code",
   "execution_count": null,
   "id": "fa169405",
   "metadata": {},
   "outputs": [],
   "source": [
    "#Question 4, draw correlation heatmap with labels (or annotation ) and mask"
   ]
  },
  {
   "cell_type": "code",
   "execution_count": 145,
   "id": "c905f8d4",
   "metadata": {},
   "outputs": [
    {
     "name": "stdout",
     "output_type": "stream",
     "text": [
      "      Milk  Detergents_Paper  Delicassen\n",
      "0     9656              2674        1338\n",
      "1     9810              3293        1776\n",
      "2     8808              3516        7844\n",
      "3     1196               507        1788\n",
      "4     5410              1777        5185\n",
      "..     ...               ...         ...\n",
      "435  12051               182        2204\n",
      "436   1431                93        2346\n",
      "437  15488             14841        1867\n",
      "438   1981               168        2125\n",
      "439   1698               477          52\n",
      "\n",
      "[440 rows x 3 columns]\n",
      "\n",
      "\n",
      "Pearson Standard Correlation Coefficient Matrix\n",
      "                      Milk  Detergents_Paper  Delicassen\n",
      "Milk              1.000000          0.661816    0.406368\n",
      "Detergents_Paper  0.661816          1.000000    0.069291\n",
      "Delicassen        0.406368          0.069291    1.000000\n",
      "\n",
      "\n"
     ]
    },
    {
     "data": {
      "image/png": "[encoded data removed]",
      "text/plain": [
       "<Figure size 792x648 with 2 Axes>"
      ]
     },
     "metadata": {},
     "output_type": "display_data"
    }
   ],
   "source": [
    "#read in the shopping dataset\n",
    "dataset = pd.read_csv('shopping.csv')\n",
    "#Selecting feature columns\n",
    "df = pd.DataFrame(dataset, columns = ['Milk', 'Detergents_Paper', 'Delicassen'])\n",
    "print(df)\n",
    "\n",
    "#create a correlation matrix for all column sets except the target variable\n",
    "correlation = df.corr()\n",
    "print(\"\\n\")\n",
    "print(\"Pearson Standard Correlation Coefficient Matrix\")\n",
    "print(correlation)\n",
    "print(\"\\n\")\n",
    "\n",
    "# Generate a mask for the upper triangle\n",
    "mask = np.triu(np.ones_like(correlation, dtype=bool))\n",
    "\n",
    "#Set up matplotlib figure\n",
    "f, ax = plt.subplots(figsize=(11, 9))\n",
    " \n",
    "#Set up a seaborn heatmap\n",
    "sns.set_style(\"white\")\n",
    " \n",
    "# Generate a custom diverging colormap\n",
    "cmap = sns.diverging_palette(230, 20, as_cmap=True)\n",
    " \n",
    "# Draw the heatmap with the mask and correct aspect ratio\n",
    "heatmap = sns.heatmap(correlation, mask = mask, cmap='RdBu', vmin=-1, vmax=1, center=0,\n",
    "            square=True, linewidths=5, cbar_kws={\"shrink\": .7},\n",
    "            annot = True, annot_kws = {\"size\": 16})\n",
    " \n",
    "#Add ticks for labels\n",
    "sns.set_style({'xtick.bottom': True}, {'ytick.left': True})"
   ]
  },
  {
   "cell_type": "code",
   "execution_count": null,
   "id": "f8a9ccf9",
   "metadata": {},
   "outputs": [],
   "source": [
    "#Delicassen has a weak positive relationship with milk at (0.41)\n",
    "#Detergents_Paper has a strong positive relationship with milk at (0.66)\n",
    "#Delicassen has almost no relationship with detergents_paper at (0.069)"
   ]
  },
  {
   "cell_type": "code",
   "execution_count": null,
   "id": "25d9bff8",
   "metadata": {},
   "outputs": [],
   "source": [
    "#Question5, draw correlation heatmap with labels (or annotation ) without mask"
   ]
  },
  {
   "cell_type": "code",
   "execution_count": 149,
   "id": "2f2e0fa1",
   "metadata": {},
   "outputs": [
    {
     "name": "stdout",
     "output_type": "stream",
     "text": [
      "      Milk  Detergents_Paper  Delicassen\n",
      "0     9656              2674        1338\n",
      "1     9810              3293        1776\n",
      "2     8808              3516        7844\n",
      "3     1196               507        1788\n",
      "4     5410              1777        5185\n",
      "..     ...               ...         ...\n",
      "435  12051               182        2204\n",
      "436   1431                93        2346\n",
      "437  15488             14841        1867\n",
      "438   1981               168        2125\n",
      "439   1698               477          52\n",
      "\n",
      "[440 rows x 3 columns]\n",
      "\n",
      "\n",
      "Pearson Standard Correlation Coefficient Matrix\n",
      "                      Milk  Detergents_Paper  Delicassen\n",
      "Milk              1.000000          0.661816    0.406368\n",
      "Detergents_Paper  0.661816          1.000000    0.069291\n",
      "Delicassen        0.406368          0.069291    1.000000\n",
      "\n",
      "\n"
     ]
    },
    {
     "data": {
      "image/png": "[encoded data removed]",
      "text/plain": [
       "<Figure size 792x648 with 2 Axes>"
      ]
     },
     "metadata": {},
     "output_type": "display_data"
    }
   ],
   "source": [
    "#read in the shopping dataset\n",
    "dataset = pd.read_csv('shopping.csv')\n",
    "#Selecting feature columns\n",
    "df = pd.DataFrame(dataset, columns = ['Milk', 'Detergents_Paper', 'Delicassen'])\n",
    "print(df)\n",
    "\n",
    "#create a correlation matrix for all column sets except the target variable\n",
    "correlation = df.corr()\n",
    "print(\"\\n\")\n",
    "print(\"Pearson Standard Correlation Coefficient Matrix\")\n",
    "print(correlation)\n",
    "print(\"\\n\")\n",
    "\n",
    "# Generate a mask for the upper triangle\n",
    "mask = np.triu(np.ones_like(correlation, dtype=bool))\n",
    "\n",
    "#Set up matplotlib figure\n",
    "f, ax = plt.subplots(figsize=(11, 9))\n",
    " \n",
    "#Set up a seaborn heatmap\n",
    "sns.set_style(\"white\")\n",
    " \n",
    "# Generate a custom diverging colormap\n",
    "cmap = sns.diverging_palette(230, 20, as_cmap=True)\n",
    " \n",
    "# Draw the heatmap without the mask and correct aspect ratio\n",
    "heatmap = sns.heatmap(correlation, cmap='RdBu', vmin=-1, vmax=1, center=0,\n",
    "            square=True, linewidths=5, cbar_kws={\"shrink\": .8},\n",
    "            annot = True, annot_kws = {\"size\": 16})\n",
    " \n",
    "#Add ticks for labels\n",
    "sns.set_style({'xtick.bottom': True}, {'ytick.left': True})"
   ]
  },
  {
   "cell_type": "code",
   "execution_count": null,
   "id": "895e1cfb",
   "metadata": {},
   "outputs": [],
   "source": [
    "#Each item has strong positive relationship, linearly aligned with themselves, each with a value 0f 1.\n",
    "#Milk has a strong positive relationship with Detergents_Paper at (0.66)\n",
    "#Milk has a weak positive relationship with delicassen at (0.41)\n",
    "#Detergents_Paper has a strong positive relationship with milk at (0.66)\n",
    "#Detergents_Paper has almost no relationship with delicassen at (0.069)\n",
    "#Delicassen has a weak positive relationship with milk at (0.41)\n",
    "#Delicassen has almost no relationship with detergents_paper at (0.069)"
   ]
  },
  {
   "cell_type": "code",
   "execution_count": null,
   "id": "72fe16ef",
   "metadata": {},
   "outputs": [],
   "source": [
    "#Question6, 1 sample ttest"
   ]
  },
  {
   "cell_type": "code",
   "execution_count": 191,
   "id": "84438c9f",
   "metadata": {},
   "outputs": [
    {
     "data": {
      "text/plain": [
       "Ttest_1sampResult(statistic=16.473886978967435, pvalue=8.042301065562174e-48)"
      ]
     },
     "execution_count": 191,
     "metadata": {},
     "output_type": "execute_result"
    }
   ],
   "source": [
    "from scipy import stats\n",
    "dataset = pd.read_csv('shopping.csv')\n",
    "stats.ttest_1samp(dataset['Milk'],0)"
   ]
  },
  {
   "cell_type": "code",
   "execution_count": 1,
   "id": "64d1c4a3",
   "metadata": {},
   "outputs": [
    {
     "name": "stdout",
     "output_type": "stream",
     "text": [
      "The null hypothesis can be accepted\n"
     ]
    }
   ],
   "source": [
    "alpha = 0.05\n",
    "pvalue = 8.042301065562174e-48\n",
    "\n",
    "\n",
    "if pvalue > alpha:\n",
    "    print(\"TRUE!!!\")\n",
    "    print(\"The null hypothesis can be rejected\")\n",
    "else:\n",
    "    print(\"The null hypothesis can be accepted\")"
   ]
  },
  {
   "cell_type": "code",
   "execution_count": 188,
   "id": "1fd83437",
   "metadata": {},
   "outputs": [],
   "source": [
    "#Two values are found in the output: \n",
    "#tvalue = 16.4738 (4 decimal places)\n",
    "#pvalue = 8.042301065562174e-48 (this means 8.042301065562174 x 10 to the power of -48)\n",
    "             \n",
    "#We can choose the following confidence level values:\n",
    "#i. Confidence Level (95%) or alpha value, & = 0.05\n",
    "#ii. Confidence Level (98%) or alpha value, & = 0.02\n",
    "#iii. Confidence Level (99%) or alpha value, & = 0.01\n",
    "\n",
    "#We choose a two-tail t-test\n",
    "#Null Hypothesis (H0): mean of Milk = 0;\n",
    "#Alternative Hypothesis (Ha): mean of Milk  ≠ 0\n",
    "\n",
    "#The distribution:\n",
    "#i. Choose: Confidence Level (95%) or alpha value, & = 0.05\n",
    "#ii. It is a two-tailed test, therefore, &/2 = 0.05/2 = 0.025\n",
    "#iii. The displayed p value is 8.042301065562174e-48 < /2 = 0.025, therefore it falls in the Reject Ho region. Therefor the conclusion is: mean of Milk is not equal to 0.\n"
   ]
  },
  {
   "cell_type": "code",
   "execution_count": 183,
   "id": "97c4ee35",
   "metadata": {},
   "outputs": [
    {
     "data": {
      "text/plain": [
       "False"
      ]
     },
     "execution_count": 183,
     "metadata": {},
     "output_type": "execute_result"
    }
   ],
   "source": [
    "8.042301065562174e-48 > 0.05/2"
   ]
  },
  {
   "cell_type": "code",
   "execution_count": 184,
   "id": "78658e81",
   "metadata": {},
   "outputs": [
    {
     "data": {
      "text/plain": [
       "Ttest_relResult(statistic=6.871989043615172, pvalue=2.1797498320979176e-11)"
      ]
     },
     "execution_count": 184,
     "metadata": {},
     "output_type": "execute_result"
    }
   ],
   "source": [
    "from scipy import stats\n",
    "stats.ttest_rel(dataset['Milk'], dataset['Frozen'])"
   ]
  },
  {
   "cell_type": "code",
   "execution_count": null,
   "id": "84d9ef59",
   "metadata": {},
   "outputs": [],
   "source": []
  },
  {
   "cell_type": "code",
   "execution_count": null,
   "id": "c24b4a51",
   "metadata": {},
   "outputs": [],
   "source": [
    "#Question 7 One Way Anova "
   ]
  },
  {
   "cell_type": "code",
   "execution_count": 169,
   "id": "cfa93bad",
   "metadata": {},
   "outputs": [
    {
     "name": "stdout",
     "output_type": "stream",
     "text": [
      "F Value  = 113.098 \n",
      "P Value  = 1.54598e-108 \n",
      "The null hypothesis can be rejected\n"
     ]
    }
   ],
   "source": [
    "import scipy.stats as stats\n",
    "\n",
    "dataset = pd.read_csv(\"shopping.csv\")\n",
    "fvalue, pvalue = stats.f_oneway(dataset[\"Fresh\"], dataset[\"Frozen\"], dataset[\"Milk\"], dataset[\"Grocery\"], dataset[\"Detergents_Paper\"], dataset[\"Delicassen\"])\n",
    "print(\"F Value  = {:g} \".format(fvalue))\n",
    "print(\"P Value  = {:g} \".format(pvalue))\n",
    "\n",
    "alpha = 0.05\n",
    "\n",
    "if pvalue < alpha:  # null hypothesis: x comes from a normal distribution\n",
    "    print(\"The null hypothesis can be rejected\")\n",
    "else:\n",
    "    print(\"The null hypothesis is accepted\")\n"
   ]
  },
  {
   "cell_type": "code",
   "execution_count": null,
   "id": "3746cb93",
   "metadata": {},
   "outputs": [],
   "source": []
  }
 ],
 "metadata": {
  "kernelspec": {
   "display_name": "Python 3 (ipykernel)",
   "language": "python",
   "name": "python3"
  },
  "language_info": {
   "codemirror_mode": {
    "name": "ipython",
    "version": 3
   },
   "file_extension": ".py",
   "mimetype": "text/x-python",
   "name": "python",
   "nbconvert_exporter": "python",
   "pygments_lexer": "ipython3",
   "version": "3.9.12"
  }
 },
 "nbformat": 4,
 "nbformat_minor": 5
}
